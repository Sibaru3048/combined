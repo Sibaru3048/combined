{
  "nbformat": 4,
  "nbformat_minor": 0,
  "metadata": {
    "colab": {
      "provenance": [],
      "gpuType": "T4",
      "mount_file_id": "1FM6NP5pHAuG1-GMOB0zfTnU7rpxM52Ok",
      "authorship_tag": "ABX9TyNAoT091NGdcSDfPmSIaflk",
      "include_colab_link": true
    },
    "kernelspec": {
      "name": "python3",
      "display_name": "Python 3"
    },
    "language_info": {
      "name": "python"
    },
    "accelerator": "GPU"
  },
  "cells": [
    {
      "cell_type": "markdown",
      "metadata": {
        "id": "view-in-github",
        "colab_type": "text"
      },
      "source": [
        "<a href=\"https://colab.research.google.com/github/kimdonggyu2008/combined/blob/main/run.ipynb\" target=\"_parent\"><img src=\"https://colab.research.google.com/assets/colab-badge.svg\" alt=\"Open In Colab\"/></a>"
      ]
    },
    {
      "cell_type": "markdown",
      "source": [
        "#api활용할때의 통합 사용"
      ],
      "metadata": {
        "id": "B_ytdoKa-znT"
      }
    },
    {
      "cell_type": "code",
      "source": [
        "# # 필요한 라이브러리 설치\n",
        "# pip install flask transformers torch\n"
      ],
      "metadata": {
        "id": "mNswB0OYAGoF"
      },
      "execution_count": 1,
      "outputs": []
    },
    {
      "cell_type": "code",
      "execution_count": 2,
      "metadata": {
        "id": "_-t0KB2y_wo4"
      },
      "outputs": [],
      "source": [
        "# from flask import Flask, request, jsonify\n",
        "# import torch\n",
        "# from transformers import AutoTokenizer, AutoModelForSeq2SeqLM\n",
        "\n",
        "# # Flask 앱 초기화\n",
        "# app = Flask(__name__)\n",
        "\n",
        "# # 1. 모델과 토크나이저 로드 (KETI-AIR/long-ke-t5-base 모델)\n",
        "# tokenizer = AutoTokenizer.from_pretrained(\"KETI-AIR/long-ke-t5-base\")\n",
        "# model = AutoModelForSeq2SeqLM.from_pretrained(\"KETI-AIR/long-ke-t5-base\")\n",
        "\n",
        "# # 2. 영어 기사 요약 함수\n",
        "# def summarize_article(article_text):\n",
        "#     inputs = tokenizer(article_text, truncation=True, padding=\"longest\", return_tensors=\"pt\")\n",
        "#     summary_ids = model.generate(**inputs, max_length=60, num_beams=5, early_stopping=True)\n",
        "#     summary = tokenizer.decode(summary_ids[0], skip_special_tokens=True)\n",
        "#     return summary\n",
        "\n",
        "# # 3. 요약된 내용을 한국어로 번역하는 함수\n",
        "# def translate_to_korean(english_text):\n",
        "#     inputs = tokenizer(english_text, return_tensors=\"pt\", padding=True, truncation=True, max_length=512)\n",
        "#     output = model.generate(inputs['input_ids'], attention_mask=inputs['attention_mask'], max_length=512)\n",
        "#     translated_text = tokenizer.decode(output[0], skip_special_tokens=True)\n",
        "#     return translated_text\n",
        "\n",
        "# # 4. API 엔드포인트 정의\n",
        "# @app.route('/summarize_translate', methods=['POST'])\n",
        "# def summarize_and_translate():\n",
        "#     # 요청에서 JSON 데이터 추출\n",
        "#     data = request.json\n",
        "#     article_text = data.get('article', '')\n",
        "\n",
        "#     if not article_text:\n",
        "#         return jsonify({\"error\": \"No article text provided\"}), 400\n",
        "\n",
        "#     # 영어 기사를 요약\n",
        "#     summary = summarize_article(article_text)\n",
        "\n",
        "#     # 요약된 내용을 한국어로 번역\n",
        "#     translated_summary = translate_to_korean(summary)\n",
        "\n",
        "#     # 결과 반환\n",
        "#     return jsonify({\n",
        "#         \"summary\": summary,\n",
        "#         \"translated_summary\": translated_summary\n",
        "#     })\n",
        "\n",
        "# # 5. API 서버 실행\n",
        "# if __name__ == '__main__':\n",
        "#     app.run(host='0.0.0.0', port=5000)\n"
      ]
    },
    {
      "cell_type": "markdown",
      "source": [
        "#파이프라인 테스트\n"
      ],
      "metadata": {
        "id": "a5obAtbd-4d5"
      }
    },
    {
      "cell_type": "code",
      "source": [
        "from transformers import PegasusTokenizer, PegasusForConditionalGeneration\n",
        "from transformers import AutoTokenizer, AutoModelForSeq2SeqLM\n",
        "import re\n",
        "import math\n"
      ],
      "metadata": {
        "id": "KYns9W3uFLZa"
      },
      "execution_count": 34,
      "outputs": []
    },
    {
      "cell_type": "code",
      "source": [
        "\n",
        "# 요약 모델 및 토크나이저 설정\n",
        "summarizer_model_name = \"/content/drive/MyDrive/summarizer/model/model_part_1\"\n",
        "summarizer_tokenizer = PegasusTokenizer.from_pretrained(summarizer_model_name)\n",
        "summarizer_model = PegasusForConditionalGeneration.from_pretrained(summarizer_model_name)\n"
      ],
      "metadata": {
        "id": "f8Kqq86H2Voe"
      },
      "execution_count": 4,
      "outputs": []
    },
    {
      "cell_type": "code",
      "source": [
        "\n",
        "# 번역 모델 및 토크나이저 설정\n",
        "translator_model_name = \"/content/drive/MyDrive/translator/model_part_1\"\n",
        "translator_tokenizer = AutoTokenizer.from_pretrained(translator_model_name)\n",
        "translator_model = AutoModelForSeq2SeqLM.from_pretrained(translator_model_name)\n"
      ],
      "metadata": {
        "colab": {
          "base_uri": "https://localhost:8080/"
        },
        "id": "ZB9dY9XK2WkS",
        "outputId": "35ed0896-5290-444d-dccc-1d29c7b33d8d"
      },
      "execution_count": 5,
      "outputs": [
        {
          "output_type": "stream",
          "name": "stderr",
          "text": [
            "/usr/local/lib/python3.10/dist-packages/transformers/models/marian/tokenization_marian.py:175: UserWarning: Recommended: pip install sacremoses.\n",
            "  warnings.warn(\"Recommended: pip install sacremoses.\")\n"
          ]
        }
      ]
    },
    {
      "cell_type": "code",
      "source": [
        "\n",
        "def summarize_article(article_text):\n",
        "    # 입력 텍스트를 요약\n",
        "    inputs = summarizer_tokenizer(article_text, max_length=1024, return_tensors=\"pt\", truncation=True)\n",
        "    summary_ids = summarizer_model.generate(inputs[\"input_ids\"], max_length=150, min_length=50, length_penalty=2.0, num_beams=4, early_stopping=True)\n",
        "    summary = summarizer_tokenizer.decode(summary_ids[0], skip_special_tokens=True)\n",
        "    return summary\n"
      ],
      "metadata": {
        "id": "r_RwSxCz2Xrv"
      },
      "execution_count": 7,
      "outputs": []
    },
    {
      "cell_type": "code",
      "source": [
        "\n",
        "def translate_text(text):\n",
        "    # 요약된 텍스트를 번역\n",
        "    inputs = translator_tokenizer(text, return_tensors=\"pt\", truncation=True)\n",
        "    translated_ids = translator_model.generate(inputs[\"input_ids\"], max_length=512, num_beams=4, early_stopping=True)\n",
        "    translation = translator_tokenizer.decode(translated_ids[0], skip_special_tokens=True)\n",
        "    return translation\n"
      ],
      "metadata": {
        "id": "iv264Xrq2YkF"
      },
      "execution_count": 8,
      "outputs": []
    },
    {
      "cell_type": "code",
      "source": [
        "\n",
        "def summarize_and_translate(article_text):\n",
        "    # 외신 기사 요약 및 번역 파이프라인\n",
        "    summary = summarize_article(article_text)\n",
        "    translation = translate_text(summary)\n",
        "    return translation\n"
      ],
      "metadata": {
        "id": "OcoKuA6H2Z2-"
      },
      "execution_count": 9,
      "outputs": []
    },
    {
      "cell_type": "code",
      "source": [
        "def split_text_with_last_sentence_overlap(text, target_chunk_length=2048):\n",
        "    # 문장 단위로 텍스트 분할\n",
        "    sentences = re.split(r'(?<=[.!?]) +', text)\n",
        "    chunks = []\n",
        "    current_chunk = \"\"\n",
        "\n",
        "    for sentence in sentences:\n",
        "        # 현재 문장을 청크에 추가\n",
        "        if len(current_chunk) + len(sentence) <= target_chunk_length:\n",
        "            current_chunk += sentence + \" \"\n",
        "        else:\n",
        "            # 청크에 문장 추가 후, 마지막 문장을 다음 청크에 포함\n",
        "            chunks.append(current_chunk.strip())\n",
        "            current_chunk = chunks[-1].split()[-1] + \" \" + sentence + \" \"\n",
        "\n",
        "    # 마지막 청크 추가\n",
        "    if current_chunk:\n",
        "        chunks.append(current_chunk.strip())\n",
        "\n",
        "    return chunks"
      ],
      "metadata": {
        "id": "10GXd7jZz81C"
      },
      "execution_count": 66,
      "outputs": []
    },
    {
      "cell_type": "code",
      "source": [
        "\n",
        "def summarize_long_text(article_text, target_chunk_length=2048):\n",
        "    # 텍스트를 분할하여 요약\n",
        "    chunks = split_text_with_last_sentence_overlap(article_text, target_chunk_length)\n",
        "    summaries = []\n",
        "\n",
        "    for chunk in chunks:\n",
        "        print(len(chunk))\n",
        "        print(chunk)\n",
        "        print(\"현재 청크\")\n",
        "        inputs = summarizer_tokenizer(chunk, max_length=target_chunk_length, return_tensors=\"pt\", truncation=True)\n",
        "        summary_ids = summarizer_model.generate(inputs[\"input_ids\"], max_length=200, min_length=50, length_penalty=2.0, num_beams=4, early_stopping=True)\n",
        "        summary = summarizer_tokenizer.decode(summary_ids[0], skip_special_tokens=True)\n",
        "        summaries.append(summary)\n",
        "\n",
        "    return summaries"
      ],
      "metadata": {
        "id": "DUSeDgSQ8gkX"
      },
      "execution_count": 70,
      "outputs": []
    },
    {
      "cell_type": "code",
      "source": [
        "# 예시 기사\n",
        "article_text = \"\"\"A drone has been \"launched towards\" the private residence of Israeli Prime Minister Benjamin Netanyahu in the coastal town of Caesarea, his office has said.\n",
        "\n",
        "\"The prime minister and his wife were not at the location, and there were no injuries in the incident,\" a statement said.\n",
        "\n",
        "It comes after the Israeli military said three drones were launched from Lebanon into Israel early on Saturday morning, with one hitting a building in Caesarea.\n",
        "\n",
        "The Israeli government has not said whether the building was part of the Prime Minister's residence nor the extent of any damage.\n",
        "\n",
        "At 08:19 local time (06:19 BST), the Israel Defense Forces (IDF) said: \"In the last hour, three unmanned aerial vehicles crossed into the country from Lebanon.\n",
        "\n",
        "\"Two of the aircraft were intercepted. Another aircraft hit a building in Caesarea, no injuries.\"\n",
        "\n",
        "Netanyahu makes use of two private homes, in Caesarea and Jerusalem, and has also spent time at Beit Aghion, the prime minister's official residence in Jerusalem, which is currently being renovated.\n",
        "\n",
        "The IDF said some 55 rockets had been launched into Israel from Lebanon so far on Saturday.\n",
        "\n",
        "Israel is continuing to attack targets in Lebanon which it says are linked to the Iran-backed Hezbollah group.\n",
        "\n",
        "Lebanon's health ministry said on Saturday that two people were killed in an Israeli strike in Jounieh, a Christian-majority town to the north of Beirut.\n",
        "\n",
        "The strike hit a moving car that was travelling along the main highway, according to local media.\n",
        "\n",
        "This attack is unusual as most Israeli operations to date have focused on Shia Muslim-majority areas where Hezbollah has a presence.\"\"\"\n"
      ],
      "metadata": {
        "id": "9buOvuP12gQG"
      },
      "execution_count": 45,
      "outputs": []
    },
    {
      "cell_type": "code",
      "source": [
        "print(len(article_text))"
      ],
      "metadata": {
        "colab": {
          "base_uri": "https://localhost:8080/"
        },
        "id": "dqLnapPh4uTF",
        "outputId": "ca0dfabb-066f-4dc0-b43c-6439d527fd31"
      },
      "execution_count": 48,
      "outputs": [
        {
          "output_type": "stream",
          "name": "stdout",
          "text": [
            "5484\n"
          ]
        }
      ]
    },
    {
      "cell_type": "code",
      "source": [
        "article_text = \"\"\"\n",
        "Japanese voters are today heading to the polls in a snap election, following a tumultuous few years for the ruling party which saw a “cascade” of scandals, widespread voter apathy and record-low approval ratings.\n",
        "\n",
        "The election was announced by Shigeru Ishiba three days after he was selected as the leader of the ruling Liberal Democratic Party (LDP) - before he had been officially sworn in as prime minister.\n",
        "\n",
        "The decision was made despite the LDP seeing approval ratings of below 20% earlier in the year, in the wake of a political fundraising corruption scandal.\n",
        "\n",
        "Yet the LDP still remains the strongest contender against opposition parties which have failed to unite, or convince voters they are a viable option to govern.\n",
        "\n",
        "The main opposition party had an approval rating of just 6.6% before parliament was dissolved.\n",
        "\n",
        "“It is so hard to make decisions to choose parties, I think people are losing interest,” Miyuki Fujisaki, a long-time LDP supporter who works in the care-home sector, told the BBC ahead of polls opening.\n",
        "\n",
        "The LDP, she said, has its problems with alleged corruption, “but the opposition also does not stand out at all”.\n",
        "\n",
        "“They sure complain a lot, but it’s not at all clear on what they want to do,” the 66-year-old said.\n",
        "\n",
        "For all the apathy, politics in Japan has been moving at a fast pace in recent months.\n",
        "\n",
        "Shigeru Ishiba took over as prime minister after being voted in by the ruling party following his predecessor Fumio Kishida - who had been in the role since 2021 – making a surprise decision to step down in August.\n",
        "\n",
        "The move to call the election came at a time when the LDP is desperate to restore its tarnished image among the public.\n",
        "\n",
        "\n",
        "Ishiba - a long-time politician who previously served as defence minister - has described it as the “people’s verdict”.\n",
        "\n",
        "But whether it’s enough to restore trust in the LDP - which has been in power almost continuously since 1955 – is uncertain.\n",
        "\n",
        "A series of scandals has tarnished the ruling party’s reputation. Chief among them is the party’s relationship with the controversial Unification Church - described by critics as a “cult” - and the level of influence it had on lawmakers.\n",
        "\n",
        "Then came the revelations of the political funding corruption scandal. Japan’s prosecutors have been investigating dozens of LDP lawmakers accused of pocketing proceeds from political fundraising events. Those allegations - running into the millions of dollars - led to the dissolution of powerful factions, the backbone of its internal party politics.\n",
        "\n",
        "“What a wretched state the ruling party is in,” said Michiko Hamada, who had travelled to Urawa station, on outskirts of Tokyo, for an opposition campaign rally.\n",
        "\n",
        "“That is what I feel most. It is tax evasion and it’s unforgivable.”\n",
        "\n",
        "It strikes her as particularly egregious at a time when people in Japan are struggling with high prices. Wages have not changed for three decades – dubbed “the lost 30 years” – but prices have risen at the fastest rate in nearly half a century in the last two years.\n",
        "\n",
        "This month, as voters were getting ready to go to the polls, saw more price hikes on thousands of food products as well as other day-to-day provisions like mail, pharmaceuticals, electricity and gas.\n",
        "\n",
        "“I pay 10,000 yen or 20,000 yen ($65 - $130; £50 - £100) more for the food per month (than I used to),” Ms Hamada said.\n",
        "\n",
        "“And I’m not buying the things I used to buy. I am trying to save up but it still costs more.\n",
        "\n",
        "\n",
        "\n",
        "Things like fruit are very expensive.”\n",
        "\n",
        "She is not the only one concerned with high prices. Pensioner Chie Shimizu says she now must work part-time to make ends meet.\n",
        "\n",
        "“Our hourly wage has gone up a bit but it does not match the prices,” she told the BBC as she picked up some food from a stand at Urawa station. “I come to places like this to find something cheaper and good because everything in regular shops is expensive.”\n",
        "\n",
        "Ms Shimizu has not voted for years but might this time - although she is not sure which candidate or which party to vote for.\n",
        "\n",
        "“I can't find anyone that I want to vote for. I feel like there's no one who I can trust to be our leader. I wonder about those who become an MP for their own greed.”\n",
        "\n",
        "Against this backdrop, it might look like Ishiba has taken a political gamble. His party had held 247 of 465 seats in the lower house, while its coalition partner, Komeito, had 32. A party needs 233 seats to control the house, known as the Diet.\n",
        "\n",
        "There are now fears Komeito may fail to reach that number again, while the main opposition - which had 98 seats in the previous parliament - began to pick up momentum with voters ahead of Sunday’s election.\n",
        "\n",
        "“I think the LDP has dug itself a very deep hole to climb out of. It does not enjoy public trust, and why should it?\n",
        "\n",
        "\n",
        "There's just been a cascade of scandals,” Jeff Kingston, professor of Asian studies and history at Temple University Japan, told the BBC.\n",
        "\n",
        "But he does not think any of this will necessarily lead to the party losing the elections.\n",
        "\n",
        "“I think they (LDP) are worried they're going to lose some marginal seats, and there are questions hanging over Komeito and how effective a coalition partner they will be,” Prof Kingston said.\n",
        "\n",
        "Should they pull off a win, Miyuki Fujisaki, the care-home sector worker, warns they will have to do more than just pay lip service to change.\n",
        "\n",
        "“I want them to show us what they are going to do so this [the scandals] doesn’t happen again,” she said. “They need to prove it - not just say it like they often do in the election time.”\n",
        "\n",
        "\n",
        "\"\"\""
      ],
      "metadata": {
        "id": "skY8AP3K4SWD"
      },
      "execution_count": 51,
      "outputs": []
    },
    {
      "cell_type": "code",
      "source": [
        "print(summarize_long_text(article_text))"
      ],
      "metadata": {
        "colab": {
          "base_uri": "https://localhost:8080/"
        },
        "id": "2py0vNfk5T2T",
        "outputId": "318f0da8-3833-4a45-d229-651793adf457"
      },
      "execution_count": 71,
      "outputs": [
        {
          "output_type": "stream",
          "name": "stdout",
          "text": [
            "1983\n",
            "Japanese voters are today heading to the polls in a snap election, following a tumultuous few years for the ruling party which saw a “cascade” of scandals, widespread voter apathy and record-low approval ratings.\n",
            "\n",
            "The election was announced by Shigeru Ishiba three days after he was selected as the leader of the ruling Liberal Democratic Party (LDP) - before he had been officially sworn in as prime minister.\n",
            "\n",
            "The decision was made despite the LDP seeing approval ratings of below 20% earlier in the year, in the wake of a political fundraising corruption scandal.\n",
            "\n",
            "Yet the LDP still remains the strongest contender against opposition parties which have failed to unite, or convince voters they are a viable option to govern.\n",
            "\n",
            "The main opposition party had an approval rating of just 6.6% before parliament was dissolved.\n",
            "\n",
            "“It is so hard to make decisions to choose parties, I think people are losing interest,” Miyuki Fujisaki, a long-time LDP supporter who works in the care-home sector, told the BBC ahead of polls opening.\n",
            "\n",
            "The LDP, she said, has its problems with alleged corruption, “but the opposition also does not stand out at all”.\n",
            "\n",
            "“They sure complain a lot, but it’s not at all clear on what they want to do,” the 66-year-old said.\n",
            "\n",
            "For all the apathy, politics in Japan has been moving at a fast pace in recent months.\n",
            "\n",
            "Shigeru Ishiba took over as prime minister after being voted in by the ruling party following his predecessor Fumio Kishida - who had been in the role since 2021 – making a surprise decision to step down in August.\n",
            "\n",
            "The move to call the election came at a time when the LDP is desperate to restore its tarnished image among the public. Ishiba - a long-time politician who previously served as defence minister - has described it as the “people’s verdict”.\n",
            "\n",
            "But whether it’s enough to restore trust in the LDP - which has been in power almost continuously since 1955 – is uncertain.\n",
            "\n",
            "A series of scandals has tarnished the ruling party’s reputation.\n",
            "현재 청크\n",
            "1768\n",
            "reputation. Chief among them is the party’s relationship with the controversial Unification Church - described by critics as a “cult” - and the level of influence it had on lawmakers.\n",
            "\n",
            "Then came the revelations of the political funding corruption scandal. Japan’s prosecutors have been investigating dozens of LDP lawmakers accused of pocketing proceeds from political fundraising events. Those allegations - running into the millions of dollars - led to the dissolution of powerful factions, the backbone of its internal party politics.\n",
            "\n",
            "“What a wretched state the ruling party is in,” said Michiko Hamada, who had travelled to Urawa station, on outskirts of Tokyo, for an opposition campaign rally.\n",
            "\n",
            "“That is what I feel most. It is tax evasion and it’s unforgivable.”\n",
            "\n",
            "It strikes her as particularly egregious at a time when people in Japan are struggling with high prices. Wages have not changed for three decades – dubbed “the lost 30 years” – but prices have risen at the fastest rate in nearly half a century in the last two years.\n",
            "\n",
            "This month, as voters were getting ready to go to the polls, saw more price hikes on thousands of food products as well as other day-to-day provisions like mail, pharmaceuticals, electricity and gas.\n",
            "\n",
            "“I pay 10,000 yen or 20,000 yen ($65 - $130; £50 - £100) more for the food per month (than I used to),” Ms Hamada said.\n",
            "\n",
            "“And I’m not buying the things I used to buy. I am trying to save up but it still costs more. Things like fruit are very expensive.”\n",
            "\n",
            "She is not the only one concerned with high prices. Pensioner Chie Shimizu says she now must work part-time to make ends meet.\n",
            "\n",
            "“Our hourly wage has gone up a bit but it does not match the prices,” she told the BBC as she picked up some food from a stand at Urawa station.\n",
            "현재 청크\n",
            "1748\n",
            "station. “I come to places like this to find something cheaper and good because everything in regular shops is expensive.”\n",
            "\n",
            "Ms Shimizu has not voted for years but might this time - although she is not sure which candidate or which party to vote for.\n",
            "\n",
            "“I can't find anyone that I want to vote for. I feel like there's no one who I can trust to be our leader. I wonder about those who become an MP for their own greed.”\n",
            "\n",
            "Against this backdrop, it might look like Ishiba has taken a political gamble. His party had held 247 of 465 seats in the lower house, while its coalition partner, Komeito, had 32. A party needs 233 seats to control the house, known as the Diet.\n",
            "\n",
            "There are now fears Komeito may fail to reach that number again, while the main opposition - which had 98 seats in the previous parliament - began to pick up momentum with voters ahead of Sunday’s election.\n",
            "\n",
            "“I think the LDP has dug itself a very deep hole to climb out of. It does not enjoy public trust, and why should it? There's just been a cascade of scandals,” Jeff Kingston, professor of Asian studies and history at Temple University Japan, told the BBC.\n",
            "\n",
            "But he does not think any of this will necessarily lead to the party losing the elections.\n",
            "\n",
            "“I think they (LDP) are worried they're going to lose some marginal seats, and there are questions hanging over Komeito and how effective a coalition partner they will be,” Prof Kingston said.\n",
            "\n",
            "Should they pull off a win, Miyuki Fujisaki, the care-home sector worker, warns they will have to do more than just pay lip service to change.\n",
            "\n",
            "“I want them to show us what they are going to do so this [the scandals] doesn’t happen again,” she said. “They need to prove it - not just say it like they often do in the election time.”\n",
            "현재 청크\n",
            "['Japanese voters head to the polls in a snap election on Sunday. The ruling Liberal Democratic Party (LDP) has been in power for over 60 years, but has seen its approval ratings fall to record lows. Opposition parties have failed to unite, or convince voters.', \"Japan's ruling party is in a wretched state, says Michiko Hamada, who travelled to Urawa station for an opposition campaign rally. It is tax evasion and it's unforgivable, she said. Japan is struggling with high prices, she added.\", 'Japan goes to the polls on Sunday to elect a new parliament. The ruling Liberal Democratic Party (LDP) and its coalition partner, Komeito, have been accused of corruption, bribery, and misuse of public funds. Komeito has been accused of corruption, bribery, and misuse of public funds']\n"
          ]
        }
      ]
    },
    {
      "cell_type": "code",
      "source": [
        "\n",
        "# 파이프라인 실행\n",
        "translated_summary = summarize_and_translate(article_text)\n",
        "print(\"번역된 요약문:\", translated_summary)\n"
      ],
      "metadata": {
        "id": "mwEPN1vaE--T",
        "colab": {
          "base_uri": "https://localhost:8080/",
          "height": 355
        },
        "outputId": "40155b37-3b47-4262-ccec-05a73674a83d"
      },
      "execution_count": 61,
      "outputs": [
        {
          "output_type": "error",
          "ename": "IndexError",
          "evalue": "index out of range in self",
          "traceback": [
            "\u001b[0;31m---------------------------------------------------------------------------\u001b[0m",
            "\u001b[0;31mIndexError\u001b[0m                                Traceback (most recent call last)",
            "\u001b[0;32m<ipython-input-61-0e54a6be2a31>\u001b[0m in \u001b[0;36m<cell line: 2>\u001b[0;34m()\u001b[0m\n\u001b[1;32m      1\u001b[0m \u001b[0;31m# 파이프라인 실행\u001b[0m\u001b[0;34m\u001b[0m\u001b[0;34m\u001b[0m\u001b[0m\n\u001b[0;32m----> 2\u001b[0;31m \u001b[0mtranslated_summary\u001b[0m \u001b[0;34m=\u001b[0m \u001b[0msummarize_and_translate\u001b[0m\u001b[0;34m(\u001b[0m\u001b[0marticle_text\u001b[0m\u001b[0;34m)\u001b[0m\u001b[0;34m\u001b[0m\u001b[0;34m\u001b[0m\u001b[0m\n\u001b[0m\u001b[1;32m      3\u001b[0m \u001b[0mprint\u001b[0m\u001b[0;34m(\u001b[0m\u001b[0;34m\"번역된 요약문:\"\u001b[0m\u001b[0;34m,\u001b[0m \u001b[0mtranslated_summary\u001b[0m\u001b[0;34m)\u001b[0m\u001b[0;34m\u001b[0m\u001b[0;34m\u001b[0m\u001b[0m\n",
            "\u001b[0;32m<ipython-input-9-455e447fad40>\u001b[0m in \u001b[0;36msummarize_and_translate\u001b[0;34m(article_text)\u001b[0m\n\u001b[1;32m      1\u001b[0m \u001b[0;32mdef\u001b[0m \u001b[0msummarize_and_translate\u001b[0m\u001b[0;34m(\u001b[0m\u001b[0marticle_text\u001b[0m\u001b[0;34m)\u001b[0m\u001b[0;34m:\u001b[0m\u001b[0;34m\u001b[0m\u001b[0;34m\u001b[0m\u001b[0m\n\u001b[1;32m      2\u001b[0m     \u001b[0;31m# 외신 기사 요약 및 번역 파이프라인\u001b[0m\u001b[0;34m\u001b[0m\u001b[0;34m\u001b[0m\u001b[0m\n\u001b[0;32m----> 3\u001b[0;31m     \u001b[0msummary\u001b[0m \u001b[0;34m=\u001b[0m \u001b[0msummarize_article\u001b[0m\u001b[0;34m(\u001b[0m\u001b[0marticle_text\u001b[0m\u001b[0;34m)\u001b[0m\u001b[0;34m\u001b[0m\u001b[0;34m\u001b[0m\u001b[0m\n\u001b[0m\u001b[1;32m      4\u001b[0m     \u001b[0mtranslation\u001b[0m \u001b[0;34m=\u001b[0m \u001b[0mtranslate_text\u001b[0m\u001b[0;34m(\u001b[0m\u001b[0msummary\u001b[0m\u001b[0;34m)\u001b[0m\u001b[0;34m\u001b[0m\u001b[0;34m\u001b[0m\u001b[0m\n\u001b[1;32m      5\u001b[0m     \u001b[0;32mreturn\u001b[0m \u001b[0mtranslation\u001b[0m\u001b[0;34m\u001b[0m\u001b[0;34m\u001b[0m\u001b[0m\n",
            "\u001b[0;32m<ipython-input-7-81bbd1631f48>\u001b[0m in \u001b[0;36msummarize_article\u001b[0;34m(article_text)\u001b[0m\n\u001b[1;32m      2\u001b[0m     \u001b[0;31m# 입력 텍스트를 요약\u001b[0m\u001b[0;34m\u001b[0m\u001b[0;34m\u001b[0m\u001b[0m\n\u001b[1;32m      3\u001b[0m     \u001b[0minputs\u001b[0m \u001b[0;34m=\u001b[0m \u001b[0msummarizer_tokenizer\u001b[0m\u001b[0;34m(\u001b[0m\u001b[0marticle_text\u001b[0m\u001b[0;34m,\u001b[0m \u001b[0mmax_length\u001b[0m\u001b[0;34m=\u001b[0m\u001b[0;36m1024\u001b[0m\u001b[0;34m,\u001b[0m \u001b[0mreturn_tensors\u001b[0m\u001b[0;34m=\u001b[0m\u001b[0;34m\"pt\"\u001b[0m\u001b[0;34m,\u001b[0m \u001b[0mtruncation\u001b[0m\u001b[0;34m=\u001b[0m\u001b[0;32mTrue\u001b[0m\u001b[0;34m)\u001b[0m\u001b[0;34m\u001b[0m\u001b[0;34m\u001b[0m\u001b[0m\n\u001b[0;32m----> 4\u001b[0;31m     \u001b[0msummary_ids\u001b[0m \u001b[0;34m=\u001b[0m \u001b[0msummarizer_model\u001b[0m\u001b[0;34m.\u001b[0m\u001b[0mgenerate\u001b[0m\u001b[0;34m(\u001b[0m\u001b[0minputs\u001b[0m\u001b[0;34m[\u001b[0m\u001b[0;34m\"input_ids\"\u001b[0m\u001b[0;34m]\u001b[0m\u001b[0;34m,\u001b[0m \u001b[0mmax_length\u001b[0m\u001b[0;34m=\u001b[0m\u001b[0;36m150\u001b[0m\u001b[0;34m,\u001b[0m \u001b[0mmin_length\u001b[0m\u001b[0;34m=\u001b[0m\u001b[0;36m50\u001b[0m\u001b[0;34m,\u001b[0m \u001b[0mlength_penalty\u001b[0m\u001b[0;34m=\u001b[0m\u001b[0;36m2.0\u001b[0m\u001b[0;34m,\u001b[0m \u001b[0mnum_beams\u001b[0m\u001b[0;34m=\u001b[0m\u001b[0;36m4\u001b[0m\u001b[0;34m,\u001b[0m \u001b[0mearly_stopping\u001b[0m\u001b[0;34m=\u001b[0m\u001b[0;32mTrue\u001b[0m\u001b[0;34m)\u001b[0m\u001b[0;34m\u001b[0m\u001b[0;34m\u001b[0m\u001b[0m\n\u001b[0m\u001b[1;32m      5\u001b[0m     \u001b[0msummary\u001b[0m \u001b[0;34m=\u001b[0m \u001b[0msummarizer_tokenizer\u001b[0m\u001b[0;34m.\u001b[0m\u001b[0mdecode\u001b[0m\u001b[0;34m(\u001b[0m\u001b[0msummary_ids\u001b[0m\u001b[0;34m[\u001b[0m\u001b[0;36m0\u001b[0m\u001b[0;34m]\u001b[0m\u001b[0;34m,\u001b[0m \u001b[0mskip_special_tokens\u001b[0m\u001b[0;34m=\u001b[0m\u001b[0;32mTrue\u001b[0m\u001b[0;34m)\u001b[0m\u001b[0;34m\u001b[0m\u001b[0;34m\u001b[0m\u001b[0m\n\u001b[1;32m      6\u001b[0m     \u001b[0;32mreturn\u001b[0m \u001b[0msummary\u001b[0m\u001b[0;34m\u001b[0m\u001b[0;34m\u001b[0m\u001b[0m\n",
            "\u001b[0;32m/usr/local/lib/python3.10/dist-packages/torch/utils/_contextlib.py\u001b[0m in \u001b[0;36mdecorate_context\u001b[0;34m(*args, **kwargs)\u001b[0m\n\u001b[1;32m    114\u001b[0m     \u001b[0;32mdef\u001b[0m \u001b[0mdecorate_context\u001b[0m\u001b[0;34m(\u001b[0m\u001b[0;34m*\u001b[0m\u001b[0margs\u001b[0m\u001b[0;34m,\u001b[0m \u001b[0;34m**\u001b[0m\u001b[0mkwargs\u001b[0m\u001b[0;34m)\u001b[0m\u001b[0;34m:\u001b[0m\u001b[0;34m\u001b[0m\u001b[0;34m\u001b[0m\u001b[0m\n\u001b[1;32m    115\u001b[0m         \u001b[0;32mwith\u001b[0m \u001b[0mctx_factory\u001b[0m\u001b[0;34m(\u001b[0m\u001b[0;34m)\u001b[0m\u001b[0;34m:\u001b[0m\u001b[0;34m\u001b[0m\u001b[0;34m\u001b[0m\u001b[0m\n\u001b[0;32m--> 116\u001b[0;31m             \u001b[0;32mreturn\u001b[0m \u001b[0mfunc\u001b[0m\u001b[0;34m(\u001b[0m\u001b[0;34m*\u001b[0m\u001b[0margs\u001b[0m\u001b[0;34m,\u001b[0m \u001b[0;34m**\u001b[0m\u001b[0mkwargs\u001b[0m\u001b[0;34m)\u001b[0m\u001b[0;34m\u001b[0m\u001b[0;34m\u001b[0m\u001b[0m\n\u001b[0m\u001b[1;32m    117\u001b[0m \u001b[0;34m\u001b[0m\u001b[0m\n\u001b[1;32m    118\u001b[0m     \u001b[0;32mreturn\u001b[0m \u001b[0mdecorate_context\u001b[0m\u001b[0;34m\u001b[0m\u001b[0;34m\u001b[0m\u001b[0m\n",
            "\u001b[0;32m/usr/local/lib/python3.10/dist-packages/transformers/generation/utils.py\u001b[0m in \u001b[0;36mgenerate\u001b[0;34m(self, inputs, generation_config, logits_processor, stopping_criteria, prefix_allowed_tokens_fn, synced_gpus, assistant_model, streamer, negative_prompt_ids, negative_prompt_attention_mask, **kwargs)\u001b[0m\n\u001b[1;32m   1743\u001b[0m         \u001b[0;32mif\u001b[0m \u001b[0mself\u001b[0m\u001b[0;34m.\u001b[0m\u001b[0mconfig\u001b[0m\u001b[0;34m.\u001b[0m\u001b[0mis_encoder_decoder\u001b[0m \u001b[0;32mand\u001b[0m \u001b[0;34m\"encoder_outputs\"\u001b[0m \u001b[0;32mnot\u001b[0m \u001b[0;32min\u001b[0m \u001b[0mmodel_kwargs\u001b[0m\u001b[0;34m:\u001b[0m\u001b[0;34m\u001b[0m\u001b[0;34m\u001b[0m\u001b[0m\n\u001b[1;32m   1744\u001b[0m             \u001b[0;31m# if model is encoder decoder encoder_outputs are created and added to `model_kwargs`\u001b[0m\u001b[0;34m\u001b[0m\u001b[0;34m\u001b[0m\u001b[0m\n\u001b[0;32m-> 1745\u001b[0;31m             model_kwargs = self._prepare_encoder_decoder_kwargs_for_generation(\n\u001b[0m\u001b[1;32m   1746\u001b[0m                 \u001b[0minputs_tensor\u001b[0m\u001b[0;34m,\u001b[0m \u001b[0mmodel_kwargs\u001b[0m\u001b[0;34m,\u001b[0m \u001b[0mmodel_input_name\u001b[0m\u001b[0;34m,\u001b[0m \u001b[0mgeneration_config\u001b[0m\u001b[0;34m\u001b[0m\u001b[0;34m\u001b[0m\u001b[0m\n\u001b[1;32m   1747\u001b[0m             )\n",
            "\u001b[0;32m/usr/local/lib/python3.10/dist-packages/transformers/generation/utils.py\u001b[0m in \u001b[0;36m_prepare_encoder_decoder_kwargs_for_generation\u001b[0;34m(self, inputs_tensor, model_kwargs, model_input_name, generation_config)\u001b[0m\n\u001b[1;32m    547\u001b[0m         \u001b[0mencoder_kwargs\u001b[0m\u001b[0;34m[\u001b[0m\u001b[0;34m\"return_dict\"\u001b[0m\u001b[0;34m]\u001b[0m \u001b[0;34m=\u001b[0m \u001b[0;32mTrue\u001b[0m\u001b[0;34m\u001b[0m\u001b[0;34m\u001b[0m\u001b[0m\n\u001b[1;32m    548\u001b[0m         \u001b[0mencoder_kwargs\u001b[0m\u001b[0;34m[\u001b[0m\u001b[0mmodel_input_name\u001b[0m\u001b[0;34m]\u001b[0m \u001b[0;34m=\u001b[0m \u001b[0minputs_tensor\u001b[0m\u001b[0;34m\u001b[0m\u001b[0;34m\u001b[0m\u001b[0m\n\u001b[0;32m--> 549\u001b[0;31m         \u001b[0mmodel_kwargs\u001b[0m\u001b[0;34m[\u001b[0m\u001b[0;34m\"encoder_outputs\"\u001b[0m\u001b[0;34m]\u001b[0m\u001b[0;34m:\u001b[0m \u001b[0mModelOutput\u001b[0m \u001b[0;34m=\u001b[0m \u001b[0mencoder\u001b[0m\u001b[0;34m(\u001b[0m\u001b[0;34m**\u001b[0m\u001b[0mencoder_kwargs\u001b[0m\u001b[0;34m)\u001b[0m\u001b[0;34m\u001b[0m\u001b[0;34m\u001b[0m\u001b[0m\n\u001b[0m\u001b[1;32m    550\u001b[0m \u001b[0;34m\u001b[0m\u001b[0m\n\u001b[1;32m    551\u001b[0m         \u001b[0;32mreturn\u001b[0m \u001b[0mmodel_kwargs\u001b[0m\u001b[0;34m\u001b[0m\u001b[0;34m\u001b[0m\u001b[0m\n",
            "\u001b[0;32m/usr/local/lib/python3.10/dist-packages/torch/nn/modules/module.py\u001b[0m in \u001b[0;36m_wrapped_call_impl\u001b[0;34m(self, *args, **kwargs)\u001b[0m\n\u001b[1;32m   1734\u001b[0m             \u001b[0;32mreturn\u001b[0m \u001b[0mself\u001b[0m\u001b[0;34m.\u001b[0m\u001b[0m_compiled_call_impl\u001b[0m\u001b[0;34m(\u001b[0m\u001b[0;34m*\u001b[0m\u001b[0margs\u001b[0m\u001b[0;34m,\u001b[0m \u001b[0;34m**\u001b[0m\u001b[0mkwargs\u001b[0m\u001b[0;34m)\u001b[0m  \u001b[0;31m# type: ignore[misc]\u001b[0m\u001b[0;34m\u001b[0m\u001b[0;34m\u001b[0m\u001b[0m\n\u001b[1;32m   1735\u001b[0m         \u001b[0;32melse\u001b[0m\u001b[0;34m:\u001b[0m\u001b[0;34m\u001b[0m\u001b[0;34m\u001b[0m\u001b[0m\n\u001b[0;32m-> 1736\u001b[0;31m             \u001b[0;32mreturn\u001b[0m \u001b[0mself\u001b[0m\u001b[0;34m.\u001b[0m\u001b[0m_call_impl\u001b[0m\u001b[0;34m(\u001b[0m\u001b[0;34m*\u001b[0m\u001b[0margs\u001b[0m\u001b[0;34m,\u001b[0m \u001b[0;34m**\u001b[0m\u001b[0mkwargs\u001b[0m\u001b[0;34m)\u001b[0m\u001b[0;34m\u001b[0m\u001b[0;34m\u001b[0m\u001b[0m\n\u001b[0m\u001b[1;32m   1737\u001b[0m \u001b[0;34m\u001b[0m\u001b[0m\n\u001b[1;32m   1738\u001b[0m     \u001b[0;31m# torchrec tests the code consistency with the following code\u001b[0m\u001b[0;34m\u001b[0m\u001b[0;34m\u001b[0m\u001b[0m\n",
            "\u001b[0;32m/usr/local/lib/python3.10/dist-packages/torch/nn/modules/module.py\u001b[0m in \u001b[0;36m_call_impl\u001b[0;34m(self, *args, **kwargs)\u001b[0m\n\u001b[1;32m   1745\u001b[0m                 \u001b[0;32mor\u001b[0m \u001b[0m_global_backward_pre_hooks\u001b[0m \u001b[0;32mor\u001b[0m \u001b[0m_global_backward_hooks\u001b[0m\u001b[0;34m\u001b[0m\u001b[0;34m\u001b[0m\u001b[0m\n\u001b[1;32m   1746\u001b[0m                 or _global_forward_hooks or _global_forward_pre_hooks):\n\u001b[0;32m-> 1747\u001b[0;31m             \u001b[0;32mreturn\u001b[0m \u001b[0mforward_call\u001b[0m\u001b[0;34m(\u001b[0m\u001b[0;34m*\u001b[0m\u001b[0margs\u001b[0m\u001b[0;34m,\u001b[0m \u001b[0;34m**\u001b[0m\u001b[0mkwargs\u001b[0m\u001b[0;34m)\u001b[0m\u001b[0;34m\u001b[0m\u001b[0;34m\u001b[0m\u001b[0m\n\u001b[0m\u001b[1;32m   1748\u001b[0m \u001b[0;34m\u001b[0m\u001b[0m\n\u001b[1;32m   1749\u001b[0m         \u001b[0mresult\u001b[0m \u001b[0;34m=\u001b[0m \u001b[0;32mNone\u001b[0m\u001b[0;34m\u001b[0m\u001b[0;34m\u001b[0m\u001b[0m\n",
            "\u001b[0;32m/usr/local/lib/python3.10/dist-packages/transformers/models/pegasus/modeling_pegasus.py\u001b[0m in \u001b[0;36mforward\u001b[0;34m(self, input_ids, attention_mask, head_mask, inputs_embeds, output_attentions, output_hidden_states, return_dict)\u001b[0m\n\u001b[1;32m    740\u001b[0m             \u001b[0minputs_embeds\u001b[0m \u001b[0;34m=\u001b[0m \u001b[0mself\u001b[0m\u001b[0;34m.\u001b[0m\u001b[0membed_tokens\u001b[0m\u001b[0;34m(\u001b[0m\u001b[0minput_ids\u001b[0m\u001b[0;34m)\u001b[0m \u001b[0;34m*\u001b[0m \u001b[0mself\u001b[0m\u001b[0;34m.\u001b[0m\u001b[0membed_scale\u001b[0m\u001b[0;34m\u001b[0m\u001b[0;34m\u001b[0m\u001b[0m\n\u001b[1;32m    741\u001b[0m \u001b[0;34m\u001b[0m\u001b[0m\n\u001b[0;32m--> 742\u001b[0;31m         \u001b[0membed_pos\u001b[0m \u001b[0;34m=\u001b[0m \u001b[0mself\u001b[0m\u001b[0;34m.\u001b[0m\u001b[0membed_positions\u001b[0m\u001b[0;34m(\u001b[0m\u001b[0minput_shape\u001b[0m\u001b[0;34m)\u001b[0m\u001b[0;34m\u001b[0m\u001b[0;34m\u001b[0m\u001b[0m\n\u001b[0m\u001b[1;32m    743\u001b[0m \u001b[0;34m\u001b[0m\u001b[0m\n\u001b[1;32m    744\u001b[0m         \u001b[0mhidden_states\u001b[0m \u001b[0;34m=\u001b[0m \u001b[0minputs_embeds\u001b[0m \u001b[0;34m+\u001b[0m \u001b[0membed_pos\u001b[0m\u001b[0;34m\u001b[0m\u001b[0;34m\u001b[0m\u001b[0m\n",
            "\u001b[0;32m/usr/local/lib/python3.10/dist-packages/torch/nn/modules/module.py\u001b[0m in \u001b[0;36m_wrapped_call_impl\u001b[0;34m(self, *args, **kwargs)\u001b[0m\n\u001b[1;32m   1734\u001b[0m             \u001b[0;32mreturn\u001b[0m \u001b[0mself\u001b[0m\u001b[0;34m.\u001b[0m\u001b[0m_compiled_call_impl\u001b[0m\u001b[0;34m(\u001b[0m\u001b[0;34m*\u001b[0m\u001b[0margs\u001b[0m\u001b[0;34m,\u001b[0m \u001b[0;34m**\u001b[0m\u001b[0mkwargs\u001b[0m\u001b[0;34m)\u001b[0m  \u001b[0;31m# type: ignore[misc]\u001b[0m\u001b[0;34m\u001b[0m\u001b[0;34m\u001b[0m\u001b[0m\n\u001b[1;32m   1735\u001b[0m         \u001b[0;32melse\u001b[0m\u001b[0;34m:\u001b[0m\u001b[0;34m\u001b[0m\u001b[0;34m\u001b[0m\u001b[0m\n\u001b[0;32m-> 1736\u001b[0;31m             \u001b[0;32mreturn\u001b[0m \u001b[0mself\u001b[0m\u001b[0;34m.\u001b[0m\u001b[0m_call_impl\u001b[0m\u001b[0;34m(\u001b[0m\u001b[0;34m*\u001b[0m\u001b[0margs\u001b[0m\u001b[0;34m,\u001b[0m \u001b[0;34m**\u001b[0m\u001b[0mkwargs\u001b[0m\u001b[0;34m)\u001b[0m\u001b[0;34m\u001b[0m\u001b[0;34m\u001b[0m\u001b[0m\n\u001b[0m\u001b[1;32m   1737\u001b[0m \u001b[0;34m\u001b[0m\u001b[0m\n\u001b[1;32m   1738\u001b[0m     \u001b[0;31m# torchrec tests the code consistency with the following code\u001b[0m\u001b[0;34m\u001b[0m\u001b[0;34m\u001b[0m\u001b[0m\n",
            "\u001b[0;32m/usr/local/lib/python3.10/dist-packages/torch/nn/modules/module.py\u001b[0m in \u001b[0;36m_call_impl\u001b[0;34m(self, *args, **kwargs)\u001b[0m\n\u001b[1;32m   1745\u001b[0m                 \u001b[0;32mor\u001b[0m \u001b[0m_global_backward_pre_hooks\u001b[0m \u001b[0;32mor\u001b[0m \u001b[0m_global_backward_hooks\u001b[0m\u001b[0;34m\u001b[0m\u001b[0;34m\u001b[0m\u001b[0m\n\u001b[1;32m   1746\u001b[0m                 or _global_forward_hooks or _global_forward_pre_hooks):\n\u001b[0;32m-> 1747\u001b[0;31m             \u001b[0;32mreturn\u001b[0m \u001b[0mforward_call\u001b[0m\u001b[0;34m(\u001b[0m\u001b[0;34m*\u001b[0m\u001b[0margs\u001b[0m\u001b[0;34m,\u001b[0m \u001b[0;34m**\u001b[0m\u001b[0mkwargs\u001b[0m\u001b[0;34m)\u001b[0m\u001b[0;34m\u001b[0m\u001b[0;34m\u001b[0m\u001b[0m\n\u001b[0m\u001b[1;32m   1748\u001b[0m \u001b[0;34m\u001b[0m\u001b[0m\n\u001b[1;32m   1749\u001b[0m         \u001b[0mresult\u001b[0m \u001b[0;34m=\u001b[0m \u001b[0;32mNone\u001b[0m\u001b[0;34m\u001b[0m\u001b[0;34m\u001b[0m\u001b[0m\n",
            "\u001b[0;32m/usr/local/lib/python3.10/dist-packages/torch/utils/_contextlib.py\u001b[0m in \u001b[0;36mdecorate_context\u001b[0;34m(*args, **kwargs)\u001b[0m\n\u001b[1;32m    114\u001b[0m     \u001b[0;32mdef\u001b[0m \u001b[0mdecorate_context\u001b[0m\u001b[0;34m(\u001b[0m\u001b[0;34m*\u001b[0m\u001b[0margs\u001b[0m\u001b[0;34m,\u001b[0m \u001b[0;34m**\u001b[0m\u001b[0mkwargs\u001b[0m\u001b[0;34m)\u001b[0m\u001b[0;34m:\u001b[0m\u001b[0;34m\u001b[0m\u001b[0;34m\u001b[0m\u001b[0m\n\u001b[1;32m    115\u001b[0m         \u001b[0;32mwith\u001b[0m \u001b[0mctx_factory\u001b[0m\u001b[0;34m(\u001b[0m\u001b[0;34m)\u001b[0m\u001b[0;34m:\u001b[0m\u001b[0;34m\u001b[0m\u001b[0;34m\u001b[0m\u001b[0m\n\u001b[0;32m--> 116\u001b[0;31m             \u001b[0;32mreturn\u001b[0m \u001b[0mfunc\u001b[0m\u001b[0;34m(\u001b[0m\u001b[0;34m*\u001b[0m\u001b[0margs\u001b[0m\u001b[0;34m,\u001b[0m \u001b[0;34m**\u001b[0m\u001b[0mkwargs\u001b[0m\u001b[0;34m)\u001b[0m\u001b[0;34m\u001b[0m\u001b[0;34m\u001b[0m\u001b[0m\n\u001b[0m\u001b[1;32m    117\u001b[0m \u001b[0;34m\u001b[0m\u001b[0m\n\u001b[1;32m    118\u001b[0m     \u001b[0;32mreturn\u001b[0m \u001b[0mdecorate_context\u001b[0m\u001b[0;34m\u001b[0m\u001b[0;34m\u001b[0m\u001b[0m\n",
            "\u001b[0;32m/usr/local/lib/python3.10/dist-packages/transformers/models/pegasus/modeling_pegasus.py\u001b[0m in \u001b[0;36mforward\u001b[0;34m(self, input_ids_shape, past_key_values_length)\u001b[0m\n\u001b[1;32m    100\u001b[0m             \u001b[0mpast_key_values_length\u001b[0m\u001b[0;34m,\u001b[0m \u001b[0mpast_key_values_length\u001b[0m \u001b[0;34m+\u001b[0m \u001b[0mseq_len\u001b[0m\u001b[0;34m,\u001b[0m \u001b[0mdtype\u001b[0m\u001b[0;34m=\u001b[0m\u001b[0mtorch\u001b[0m\u001b[0;34m.\u001b[0m\u001b[0mlong\u001b[0m\u001b[0;34m,\u001b[0m \u001b[0mdevice\u001b[0m\u001b[0;34m=\u001b[0m\u001b[0mself\u001b[0m\u001b[0;34m.\u001b[0m\u001b[0mweight\u001b[0m\u001b[0;34m.\u001b[0m\u001b[0mdevice\u001b[0m\u001b[0;34m\u001b[0m\u001b[0;34m\u001b[0m\u001b[0m\n\u001b[1;32m    101\u001b[0m         )\n\u001b[0;32m--> 102\u001b[0;31m         \u001b[0;32mreturn\u001b[0m \u001b[0msuper\u001b[0m\u001b[0;34m(\u001b[0m\u001b[0;34m)\u001b[0m\u001b[0;34m.\u001b[0m\u001b[0mforward\u001b[0m\u001b[0;34m(\u001b[0m\u001b[0mpositions\u001b[0m\u001b[0;34m)\u001b[0m\u001b[0;34m\u001b[0m\u001b[0;34m\u001b[0m\u001b[0m\n\u001b[0m\u001b[1;32m    103\u001b[0m \u001b[0;34m\u001b[0m\u001b[0m\n\u001b[1;32m    104\u001b[0m \u001b[0;34m\u001b[0m\u001b[0m\n",
            "\u001b[0;32m/usr/local/lib/python3.10/dist-packages/torch/nn/modules/sparse.py\u001b[0m in \u001b[0;36mforward\u001b[0;34m(self, input)\u001b[0m\n\u001b[1;32m    188\u001b[0m \u001b[0;34m\u001b[0m\u001b[0m\n\u001b[1;32m    189\u001b[0m     \u001b[0;32mdef\u001b[0m \u001b[0mforward\u001b[0m\u001b[0;34m(\u001b[0m\u001b[0mself\u001b[0m\u001b[0;34m,\u001b[0m \u001b[0minput\u001b[0m\u001b[0;34m:\u001b[0m \u001b[0mTensor\u001b[0m\u001b[0;34m)\u001b[0m \u001b[0;34m->\u001b[0m \u001b[0mTensor\u001b[0m\u001b[0;34m:\u001b[0m\u001b[0;34m\u001b[0m\u001b[0;34m\u001b[0m\u001b[0m\n\u001b[0;32m--> 190\u001b[0;31m         return F.embedding(\n\u001b[0m\u001b[1;32m    191\u001b[0m             \u001b[0minput\u001b[0m\u001b[0;34m,\u001b[0m\u001b[0;34m\u001b[0m\u001b[0;34m\u001b[0m\u001b[0m\n\u001b[1;32m    192\u001b[0m             \u001b[0mself\u001b[0m\u001b[0;34m.\u001b[0m\u001b[0mweight\u001b[0m\u001b[0;34m,\u001b[0m\u001b[0;34m\u001b[0m\u001b[0;34m\u001b[0m\u001b[0m\n",
            "\u001b[0;32m/usr/local/lib/python3.10/dist-packages/torch/nn/functional.py\u001b[0m in \u001b[0;36membedding\u001b[0;34m(input, weight, padding_idx, max_norm, norm_type, scale_grad_by_freq, sparse)\u001b[0m\n\u001b[1;32m   2549\u001b[0m         \u001b[0;31m# remove once script supports set_grad_enabled\u001b[0m\u001b[0;34m\u001b[0m\u001b[0;34m\u001b[0m\u001b[0m\n\u001b[1;32m   2550\u001b[0m         \u001b[0m_no_grad_embedding_renorm_\u001b[0m\u001b[0;34m(\u001b[0m\u001b[0mweight\u001b[0m\u001b[0;34m,\u001b[0m \u001b[0minput\u001b[0m\u001b[0;34m,\u001b[0m \u001b[0mmax_norm\u001b[0m\u001b[0;34m,\u001b[0m \u001b[0mnorm_type\u001b[0m\u001b[0;34m)\u001b[0m\u001b[0;34m\u001b[0m\u001b[0;34m\u001b[0m\u001b[0m\n\u001b[0;32m-> 2551\u001b[0;31m     \u001b[0;32mreturn\u001b[0m \u001b[0mtorch\u001b[0m\u001b[0;34m.\u001b[0m\u001b[0membedding\u001b[0m\u001b[0;34m(\u001b[0m\u001b[0mweight\u001b[0m\u001b[0;34m,\u001b[0m \u001b[0minput\u001b[0m\u001b[0;34m,\u001b[0m \u001b[0mpadding_idx\u001b[0m\u001b[0;34m,\u001b[0m \u001b[0mscale_grad_by_freq\u001b[0m\u001b[0;34m,\u001b[0m \u001b[0msparse\u001b[0m\u001b[0;34m)\u001b[0m\u001b[0;34m\u001b[0m\u001b[0;34m\u001b[0m\u001b[0m\n\u001b[0m\u001b[1;32m   2552\u001b[0m \u001b[0;34m\u001b[0m\u001b[0m\n\u001b[1;32m   2553\u001b[0m \u001b[0;34m\u001b[0m\u001b[0m\n",
            "\u001b[0;31mIndexError\u001b[0m: index out of range in self"
          ]
        }
      ]
    }
  ]
}